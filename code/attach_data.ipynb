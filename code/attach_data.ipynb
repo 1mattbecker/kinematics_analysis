{
 "cells": [
  {
   "cell_type": "code",
   "execution_count": 1,
   "id": "5e076103",
   "metadata": {},
   "outputs": [],
   "source": [
    "from codeocean import CodeOcean\n",
    "from codeocean.data_asset import DataAssetAttachParams\n",
    "import os\n",
    "from aind_dynamic_foraging_data_utils.code_ocean_utils import get_assets, attach_data, add_data_asset_path \n",
    "import re\n"
   ]
  },
  {
   "cell_type": "code",
   "execution_count": 3,
   "id": "f563cfd5",
   "metadata": {},
   "outputs": [],
   "source": [
    "# --- Inputs you edit ---\n",
    "session_input = \"behavior_751181_2025-02-27_11-24-44\"            # full or prefix; e.g. \"..._11-57-33\" or without time\n",
    "modifier = None                                          # e.g. \"videoprocessed\" or None\n",
    "processed = False                                        # False to include raw names like \"..._videoprocessed\"\n",
    "token_env = \"API_SECRET\"                                 # your CO token env var\n"
   ]
  },
  {
   "cell_type": "code",
   "execution_count": 4,
   "id": "87fdcfb3",
   "metadata": {},
   "outputs": [
    {
     "ename": "HTTPError",
     "evalue": "503 Server Error: Service Unavailable for url: https://api.allenneuraldynamics.org/v1/metadata_index/data_assets/find?limit=0&skip=0&filter=%7B%22name%22%3A+%7B%22%24regex%22%3A+%22%5Ebehavior_751181_2025%5C%5C-02%5C%5C-27%28%3F%3A_%5C%5Cd%7B2%7D-%5C%5Cd%7B2%7D-%5C%5Cd%7B2%7D%29%3F%28%3F%3A_.%2A%29%3F%24%22%7D%2C+%22session.session_type%22%3A+%7B%22%24regex%22%3A+%22%5E%28Uncoupled%7CCoupled%29%28+Without%29%3F+Baiting%22%7D%2C+%22%24and%22%3A+%5B%7B%22data_description.modality.abbreviation%22%3A+%7B%22%24regex%22%3A+%22behavior%22%7D%7D%5D%7D",
     "output_type": "error",
     "traceback": [
      "\u001b[0;31m---------------------------------------------------------------------------\u001b[0m",
      "\u001b[0;31mHTTPError\u001b[0m                                 Traceback (most recent call last)",
      "Cell \u001b[0;32mIn[4], line 22\u001b[0m\n\u001b[1;32m     19\u001b[0m \u001b[38;5;66;03m# Then continue with:\u001b[39;00m\n\u001b[1;32m     20\u001b[0m name_re \u001b[38;5;241m=\u001b[39m _name_regex(session_input, modifier)\n\u001b[0;32m---> 22\u001b[0m df \u001b[38;5;241m=\u001b[39m \u001b[43mget_assets\u001b[49m\u001b[43m(\u001b[49m\n\u001b[1;32m     23\u001b[0m \u001b[43m    \u001b[49m\u001b[43msubjects\u001b[49m\u001b[38;5;241;43m=\u001b[39;49m\u001b[43m[\u001b[49m\u001b[38;5;124;43m'\u001b[39;49m\u001b[38;5;124;43m751181\u001b[39;49m\u001b[38;5;124;43m'\u001b[39;49m\u001b[43m]\u001b[49m\u001b[43m,\u001b[49m\u001b[43m                   \u001b[49m\n\u001b[1;32m     24\u001b[0m \u001b[43m    \u001b[49m\u001b[43mprocessed\u001b[49m\u001b[38;5;241;43m=\u001b[39;49m\u001b[43mprocessed\u001b[49m\u001b[43m,\u001b[49m\u001b[43m           \u001b[49m\n\u001b[1;32m     25\u001b[0m \u001b[43m    \u001b[49m\u001b[43mmodality\u001b[49m\u001b[38;5;241;43m=\u001b[39;49m\u001b[43m[\u001b[49m\u001b[38;5;124;43m\"\u001b[39;49m\u001b[38;5;124;43mbehavior\u001b[39;49m\u001b[38;5;124;43m\"\u001b[39;49m\u001b[43m]\u001b[49m\u001b[43m,\u001b[49m\n\u001b[1;32m     26\u001b[0m \u001b[43m    \u001b[49m\u001b[43mextra_filter\u001b[49m\u001b[38;5;241;43m=\u001b[39;49m\u001b[43m{\u001b[49m\u001b[38;5;124;43m\"\u001b[39;49m\u001b[38;5;124;43mname\u001b[39;49m\u001b[38;5;124;43m\"\u001b[39;49m\u001b[43m:\u001b[49m\u001b[43m \u001b[49m\u001b[43m{\u001b[49m\u001b[38;5;124;43m\"\u001b[39;49m\u001b[38;5;124;43m$regex\u001b[39;49m\u001b[38;5;124;43m\"\u001b[39;49m\u001b[43m:\u001b[49m\u001b[43m \u001b[49m\u001b[43mname_re\u001b[49m\u001b[43m}\u001b[49m\u001b[43m}\u001b[49m\u001b[43m,\u001b[49m\n\u001b[1;32m     27\u001b[0m \u001b[43m)\u001b[49m\n\u001b[1;32m     29\u001b[0m \u001b[38;5;28;01mif\u001b[39;00m df \u001b[38;5;129;01mis\u001b[39;00m \u001b[38;5;28;01mNone\u001b[39;00m \u001b[38;5;129;01mor\u001b[39;00m df\u001b[38;5;241m.\u001b[39mempty:\n\u001b[1;32m     30\u001b[0m     asset_ids \u001b[38;5;241m=\u001b[39m []\n",
      "File \u001b[0;32m/src/aind-dynamic-foraging-data-utils/src/aind_dynamic_foraging_data_utils/code_ocean_utils.py:148\u001b[0m, in \u001b[0;36mget_assets\u001b[0;34m(subjects, processed, task, modality, stage, extra_filter)\u001b[0m\n\u001b[1;32m    144\u001b[0m     projection \u001b[38;5;241m=\u001b[39m \u001b[38;5;28;01mNone\u001b[39;00m\n\u001b[1;32m    146\u001b[0m \u001b[38;5;66;03m# Query\u001b[39;00m\n\u001b[1;32m    147\u001b[0m results \u001b[38;5;241m=\u001b[39m pd\u001b[38;5;241m.\u001b[39mDataFrame(\n\u001b[0;32m--> 148\u001b[0m     \u001b[43mclient\u001b[49m\u001b[38;5;241;43m.\u001b[39;49m\u001b[43mretrieve_docdb_records\u001b[49m\u001b[43m(\u001b[49m\n\u001b[1;32m    149\u001b[0m \u001b[43m        \u001b[49m\u001b[43mfilter_query\u001b[49m\u001b[38;5;241;43m=\u001b[39;49m\u001b[43m{\u001b[49m\n\u001b[1;32m    150\u001b[0m \u001b[43m            \u001b[49m\u001b[38;5;241;43m*\u001b[39;49m\u001b[38;5;241;43m*\u001b[39;49m\u001b[43msubject_filter\u001b[49m\u001b[43m,\u001b[49m\n\u001b[1;32m    151\u001b[0m \u001b[43m            \u001b[49m\u001b[38;5;241;43m*\u001b[39;49m\u001b[38;5;241;43m*\u001b[39;49m\u001b[43mtask_filter\u001b[49m\u001b[43m,\u001b[49m\n\u001b[1;32m    152\u001b[0m \u001b[43m            \u001b[49m\u001b[38;5;241;43m*\u001b[39;49m\u001b[38;5;241;43m*\u001b[39;49m\u001b[43mmodality_filter\u001b[49m\u001b[43m,\u001b[49m\n\u001b[1;32m    153\u001b[0m \u001b[43m            \u001b[49m\u001b[38;5;241;43m*\u001b[39;49m\u001b[38;5;241;43m*\u001b[39;49m\u001b[43mstage_filter\u001b[49m\u001b[43m,\u001b[49m\n\u001b[1;32m    154\u001b[0m \u001b[43m            \u001b[49m\u001b[38;5;241;43m*\u001b[39;49m\u001b[38;5;241;43m*\u001b[39;49m\u001b[43mextra_filter\u001b[49m\u001b[43m,\u001b[49m\n\u001b[1;32m    155\u001b[0m \u001b[43m        \u001b[49m\u001b[43m}\u001b[49m\u001b[43m,\u001b[49m\n\u001b[1;32m    156\u001b[0m \u001b[43m        \u001b[49m\u001b[43mprojection\u001b[49m\u001b[38;5;241;43m=\u001b[39;49m\u001b[43mprojection\u001b[49m\u001b[43m,\u001b[49m\n\u001b[1;32m    157\u001b[0m \u001b[43m    \u001b[49m\u001b[43m)\u001b[49m\n\u001b[1;32m    158\u001b[0m )\n\u001b[1;32m    160\u001b[0m \u001b[38;5;66;03m# If nothing is found, return\u001b[39;00m\n\u001b[1;32m    161\u001b[0m \u001b[38;5;28;01mif\u001b[39;00m \u001b[38;5;28mlen\u001b[39m(results) \u001b[38;5;241m==\u001b[39m \u001b[38;5;241m0\u001b[39m:\n",
      "File \u001b[0;32m/opt/conda/lib/python3.9/site-packages/aind_data_access_api/document_db.py:390\u001b[0m, in \u001b[0;36mClient.retrieve_docdb_records\u001b[0;34m(self, filter_query, projection, sort, limit, paginate, paginate_batch_size, paginate_max_iterations)\u001b[0m\n\u001b[1;32m    388\u001b[0m skip \u001b[38;5;241m=\u001b[39m \u001b[38;5;241m0\u001b[39m\n\u001b[1;32m    389\u001b[0m \u001b[38;5;28;01mwhile\u001b[39;00m get_all_records \u001b[38;5;129;01mor\u001b[39;00m limit \u001b[38;5;241m>\u001b[39m \u001b[38;5;241m0\u001b[39m:\n\u001b[0;32m--> 390\u001b[0m     batched_records \u001b[38;5;241m=\u001b[39m \u001b[38;5;28;43mself\u001b[39;49m\u001b[38;5;241;43m.\u001b[39;49m\u001b[43m_find_records\u001b[49m\u001b[43m(\u001b[49m\n\u001b[1;32m    391\u001b[0m \u001b[43m        \u001b[49m\u001b[43mfilter_query\u001b[49m\u001b[38;5;241;43m=\u001b[39;49m\u001b[43mfilter_query\u001b[49m\u001b[43m,\u001b[49m\n\u001b[1;32m    392\u001b[0m \u001b[43m        \u001b[49m\u001b[43mprojection\u001b[49m\u001b[38;5;241;43m=\u001b[39;49m\u001b[43mprojection\u001b[49m\u001b[43m,\u001b[49m\n\u001b[1;32m    393\u001b[0m \u001b[43m        \u001b[49m\u001b[43msort\u001b[49m\u001b[38;5;241;43m=\u001b[39;49m\u001b[43msort\u001b[49m\u001b[43m,\u001b[49m\n\u001b[1;32m    394\u001b[0m \u001b[43m        \u001b[49m\u001b[43mlimit\u001b[49m\u001b[38;5;241;43m=\u001b[39;49m\u001b[43mlimit\u001b[49m\u001b[43m,\u001b[49m\n\u001b[1;32m    395\u001b[0m \u001b[43m        \u001b[49m\u001b[43mskip\u001b[49m\u001b[38;5;241;43m=\u001b[39;49m\u001b[43mskip\u001b[49m\u001b[43m,\u001b[49m\n\u001b[1;32m    396\u001b[0m \u001b[43m    \u001b[49m\u001b[43m)\u001b[49m\n\u001b[1;32m    397\u001b[0m     batch_size \u001b[38;5;241m=\u001b[39m \u001b[38;5;28mlen\u001b[39m(batched_records)\n\u001b[1;32m    398\u001b[0m     logging\u001b[38;5;241m.\u001b[39mdebug(\n\u001b[1;32m    399\u001b[0m         \u001b[38;5;124mf\u001b[39m\u001b[38;5;124m\"\u001b[39m\u001b[38;5;124m(skip=\u001b[39m\u001b[38;5;132;01m{\u001b[39;00mskip\u001b[38;5;132;01m}\u001b[39;00m\u001b[38;5;124m, limit=\u001b[39m\u001b[38;5;132;01m{\u001b[39;00mlimit\u001b[38;5;132;01m}\u001b[39;00m\u001b[38;5;124m): Retrieved \u001b[39m\u001b[38;5;132;01m{\u001b[39;00mbatch_size\u001b[38;5;132;01m}\u001b[39;00m\u001b[38;5;124m records\u001b[39m\u001b[38;5;124m\"\u001b[39m\n\u001b[1;32m    400\u001b[0m     )\n",
      "File \u001b[0;32m/opt/conda/lib/python3.9/site-packages/aind_data_access_api/document_db.py:219\u001b[0m, in \u001b[0;36mClient._find_records\u001b[0;34m(self, filter_query, projection, sort, limit, skip)\u001b[0m\n\u001b[1;32m    216\u001b[0m     params[\u001b[38;5;124m\"\u001b[39m\u001b[38;5;124msort\u001b[39m\u001b[38;5;124m\"\u001b[39m] \u001b[38;5;241m=\u001b[39m json\u001b[38;5;241m.\u001b[39mdumps(sort)\n\u001b[1;32m    218\u001b[0m response \u001b[38;5;241m=\u001b[39m \u001b[38;5;28mself\u001b[39m\u001b[38;5;241m.\u001b[39msession\u001b[38;5;241m.\u001b[39mget(\u001b[38;5;28mself\u001b[39m\u001b[38;5;241m.\u001b[39m_find_url, params\u001b[38;5;241m=\u001b[39mparams)\n\u001b[0;32m--> 219\u001b[0m \u001b[43mresponse\u001b[49m\u001b[38;5;241;43m.\u001b[39;49m\u001b[43mraise_for_status\u001b[49m\u001b[43m(\u001b[49m\u001b[43m)\u001b[49m\n\u001b[1;32m    220\u001b[0m response_body \u001b[38;5;241m=\u001b[39m response\u001b[38;5;241m.\u001b[39mjson()\n\u001b[1;32m    221\u001b[0m \u001b[38;5;28;01mreturn\u001b[39;00m response_body\n",
      "File \u001b[0;32m/opt/conda/lib/python3.9/site-packages/requests/models.py:1021\u001b[0m, in \u001b[0;36mResponse.raise_for_status\u001b[0;34m(self)\u001b[0m\n\u001b[1;32m   1016\u001b[0m     http_error_msg \u001b[38;5;241m=\u001b[39m (\n\u001b[1;32m   1017\u001b[0m         \u001b[38;5;124mf\u001b[39m\u001b[38;5;124m\"\u001b[39m\u001b[38;5;132;01m{\u001b[39;00m\u001b[38;5;28mself\u001b[39m\u001b[38;5;241m.\u001b[39mstatus_code\u001b[38;5;132;01m}\u001b[39;00m\u001b[38;5;124m Server Error: \u001b[39m\u001b[38;5;132;01m{\u001b[39;00mreason\u001b[38;5;132;01m}\u001b[39;00m\u001b[38;5;124m for url: \u001b[39m\u001b[38;5;132;01m{\u001b[39;00m\u001b[38;5;28mself\u001b[39m\u001b[38;5;241m.\u001b[39murl\u001b[38;5;132;01m}\u001b[39;00m\u001b[38;5;124m\"\u001b[39m\n\u001b[1;32m   1018\u001b[0m     )\n\u001b[1;32m   1020\u001b[0m \u001b[38;5;28;01mif\u001b[39;00m http_error_msg:\n\u001b[0;32m-> 1021\u001b[0m     \u001b[38;5;28;01mraise\u001b[39;00m HTTPError(http_error_msg, response\u001b[38;5;241m=\u001b[39m\u001b[38;5;28mself\u001b[39m)\n",
      "\u001b[0;31mHTTPError\u001b[0m: 503 Server Error: Service Unavailable for url: https://api.allenneuraldynamics.org/v1/metadata_index/data_assets/find?limit=0&skip=0&filter=%7B%22name%22%3A+%7B%22%24regex%22%3A+%22%5Ebehavior_751181_2025%5C%5C-02%5C%5C-27%28%3F%3A_%5C%5Cd%7B2%7D-%5C%5Cd%7B2%7D-%5C%5Cd%7B2%7D%29%3F%28%3F%3A_.%2A%29%3F%24%22%7D%2C+%22session.session_type%22%3A+%7B%22%24regex%22%3A+%22%5E%28Uncoupled%7CCoupled%29%28+Without%29%3F+Baiting%22%7D%2C+%22%24and%22%3A+%5B%7B%22data_description.modality.abbreviation%22%3A+%7B%22%24regex%22%3A+%22behavior%22%7D%7D%5D%7D"
     ]
    }
   ],
   "source": [
    "import re\n",
    "from typing import Optional\n",
    "\n",
    "def _session_prefix(s: str) -> str:\n",
    "    return re.sub(r'_\\d{2}-\\d{2}-\\d{2}$', '', s)\n",
    "\n",
    "def _name_regex(session_input: str, modifier: Optional[str]) -> str:\n",
    "    \"\"\"\n",
    "    Matches:\n",
    "      ^<prefix>(_<HH-MM-SS>)?(_<modifier>)?(_.*)?$\n",
    "    Works for both exact session and prefix, with or without extra suffixes.\n",
    "    \"\"\"\n",
    "    pref = _session_prefix(session_input)\n",
    "    time_opt = r'(?:_\\d{2}-\\d{2}-\\d{2})?'          # optional time\n",
    "    mod_opt  = f'(?:_{re.escape(modifier)})?' if modifier else ''\n",
    "    tail_opt = r'(?:_.*)?'                         # optional trailing stuff\n",
    "    return f'^{re.escape(pref)}{time_opt}{mod_opt}{tail_opt}$'\n",
    "\n",
    "# Then continue with:\n",
    "name_re = _name_regex(session_input, modifier)\n",
    "\n",
    "df = get_assets(\n",
    "    subjects=['751181'],                   \n",
    "    processed=processed,           \n",
    "    modality=[\"behavior\"],\n",
    "    extra_filter={\"name\": {\"$regex\": name_re}},\n",
    ")\n",
    "\n",
    "if df is None or df.empty:\n",
    "    asset_ids = []\n",
    "else:\n",
    "    df = df[df[\"name\"].str.match(name_re, na=False)]\n",
    "    asset_ids = [x for x in df[\"code_ocean_asset_id\"].tolist() if x]\n",
    "\n",
    "asset_ids\n"
   ]
  },
  {
   "cell_type": "code",
   "execution_count": 6,
   "id": "3c8eed15",
   "metadata": {},
   "outputs": [
    {
     "data": {
      "text/plain": [
       "['75f7920a-17c9-4e0c-8259-aee69e0544b2',\n",
       " '2efd0064-8eb1-4124-8232-37ff7c7b96e1',\n",
       " 'd4f4b00a-6603-41ef-99e1-7277e844bca5',\n",
       " 'c22f4d4e-12aa-4ad1-82ed-1301c279c270',\n",
       " '6a851057-6523-446c-8108-e57924bdca92',\n",
       " 'e740d882-8503-4a30-a764-7340aa250b73']"
      ]
     },
     "execution_count": 6,
     "metadata": {},
     "output_type": "execute_result"
    }
   ],
   "source": [
    "asset_ids"
   ]
  },
  {
   "cell_type": "code",
   "execution_count": 8,
   "id": "4a485c35",
   "metadata": {},
   "outputs": [
    {
     "name": "stdout",
     "output_type": "stream",
     "text": [
      "Query will be slow without explicit subject ids\n"
     ]
    },
    {
     "data": {
      "text/plain": [
       "['75f7920a-17c9-4e0c-8259-aee69e0544b2',\n",
       " '2efd0064-8eb1-4124-8232-37ff7c7b96e1',\n",
       " 'd4f4b00a-6603-41ef-99e1-7277e844bca5',\n",
       " 'c22f4d4e-12aa-4ad1-82ed-1301c279c270',\n",
       " '6a851057-6523-446c-8108-e57924bdca92',\n",
       " 'e740d882-8503-4a30-a764-7340aa250b73']"
      ]
     },
     "execution_count": 8,
     "metadata": {},
     "output_type": "execute_result"
    }
   ],
   "source": [
    "df = get_assets(\n",
    "    subjects=[],                   \n",
    "    processed=processed,           \n",
    "    modality=[\"behavior\"],\n",
    "    extra_filter={\"name\": {\"$regex\": name_re}},\n",
    ")\n",
    "\n",
    "if df is None or df.empty:\n",
    "    asset_ids2 = []\n",
    "else:\n",
    "    df = df[df[\"name\"].str.match(name_re, na=False)]\n",
    "    asset_ids2 = [x for x in df[\"code_ocean_asset_id\"].tolist() if x]\n",
    "\n",
    "asset_ids2"
   ]
  },
  {
   "cell_type": "code",
   "execution_count": 9,
   "id": "c5da5ee7",
   "metadata": {},
   "outputs": [
    {
     "data": {
      "text/plain": [
       "True"
      ]
     },
     "execution_count": 9,
     "metadata": {},
     "output_type": "execute_result"
    }
   ],
   "source": [
    "processed"
   ]
  },
  {
   "cell_type": "code",
   "execution_count": null,
   "id": "880521d7",
   "metadata": {},
   "outputs": [],
   "source": []
  },
  {
   "cell_type": "code",
   "execution_count": null,
   "id": "047ba8f9",
   "metadata": {},
   "outputs": [],
   "source": []
  },
  {
   "cell_type": "code",
   "execution_count": null,
   "id": "bc3a5654",
   "metadata": {},
   "outputs": [],
   "source": []
  },
  {
   "cell_type": "code",
   "execution_count": 2,
   "id": "973b19dc",
   "metadata": {},
   "outputs": [],
   "source": [
    "import re\n",
    "import pandas as pd\n",
    "from typing import Optional, List\n",
    "from aind_data_access_api.document_db import MetadataDbClient\n",
    "\n",
    "def get_assets_by_session(\n",
    "    session_input: str,\n",
    "    modifier: Optional[str] = None,\n",
    "    modality: List[str] = [\"behavior\"],\n",
    "    subjects: Optional[List[str]] = None,\n",
    ") -> pd.DataFrame:\n",
    "    \"\"\"\n",
    "    Simplified: get *all* data assets whose name matches\n",
    "    session prefix (with or without _HH-MM-SS) and optional _modifier.\n",
    "    Returns full list of matches (no deduplication).\n",
    "    \"\"\"\n",
    "\n",
    "    # --- Helpers ---\n",
    "    def extract_subject_id(session_input: str) -> Optional[str]:\n",
    "        m = re.match(r\"^behavior_(\\d+)_\\d{4}-\\d{2}-\\d{2}\", session_input)\n",
    "        return m.group(1) if m else None\n",
    "\n",
    "    def session_prefix(s: str) -> str:\n",
    "        return re.sub(r'_\\d{2}-\\d{2}-\\d{2}$', '', s)\n",
    "\n",
    "    def name_regex(session_input: str, modifier: Optional[str]) -> str:\n",
    "        pref = session_prefix(session_input)\n",
    "        time_opt = r'(?:_\\d{2}-\\d{2}-\\d{2})?'           # optional time\n",
    "        mod_opt  = f'(?:_{re.escape(modifier)})' if modifier else ''\n",
    "        tail_opt = r'(?:_.*)?'                          # allow trailing stuff (e.g., hashes)\n",
    "        return f'^{re.escape(pref)}{time_opt}{mod_opt}{tail_opt}$'\n",
    "\n",
    "    # --- Build query ---\n",
    "    name_re = name_regex(session_input, modifier)\n",
    "\n",
    "    subj = subjects or [extract_subject_id(session_input)] if extract_subject_id(session_input) else []\n",
    "    subject_filter = {\n",
    "        \"name\": {\"$regex\": \"^behavior_(\" + \"|\".join(subj) + r\")_.*$\"}\n",
    "    } if subj else {}\n",
    "\n",
    "    modality_filter = {\"$and\": [{\"data_description.modality.abbreviation\": {\"$regex\": m}} for m in modality]} if modality else {}\n",
    "\n",
    "    extra_filter = {\"name\": {\"$regex\": name_re}}\n",
    "\n",
    "    # --- Query docDB ---\n",
    "    client = MetadataDbClient(\n",
    "        host=\"api.allenneuraldynamics.org\",\n",
    "        database=\"metadata_index\",\n",
    "        collection=\"data_assets\"\n",
    "    )\n",
    "    df = pd.DataFrame(\n",
    "        client.retrieve_docdb_records(\n",
    "            filter_query={**subject_filter, **modality_filter, **extra_filter},\n",
    "            projection={\"name\": 1, \"external_links\": 1, \"session_name\": 1, \"subject.subject_id\": 1},\n",
    "        )\n",
    "    )\n",
    "\n",
    "    if df.empty:\n",
    "        return df\n",
    "\n",
    "    # --- Add Code Ocean asset IDs ---\n",
    "    def co_id(links):\n",
    "        if isinstance(links, dict) and \"Code Ocean\" in links:\n",
    "            vals = links[\"Code Ocean\"]\n",
    "            if isinstance(vals, list) and vals:\n",
    "                return vals[0]\n",
    "            elif isinstance(vals, str):\n",
    "                return vals\n",
    "        return \"\"\n",
    "\n",
    "    df[\"code_ocean_asset_id\"] = df[\"external_links\"].apply(co_id)\n",
    "    df = df[df[\"name\"].str.match(name_re, na=False)]\n",
    "    return df.reset_index(drop=True)\n"
   ]
  },
  {
   "cell_type": "code",
   "execution_count": 4,
   "id": "17ebd023",
   "metadata": {},
   "outputs": [
    {
     "ename": "HTTPError",
     "evalue": "503 Server Error: Service Unavailable for url: https://api.allenneuraldynamics.org/v1/metadata_index/data_assets/find?limit=0&skip=0&filter=%7B%22name%22%3A+%7B%22%24regex%22%3A+%22%5Ebehavior_751181_2025%5C%5C-02%5C%5C-27%28%3F%3A_%5C%5Cd%7B2%7D-%5C%5Cd%7B2%7D-%5C%5Cd%7B2%7D%29%3F%28%3F%3A_.%2A%29%3F%24%22%7D%7D&projection=%7B%22name%22%3A+1%2C+%22external_links%22%3A+1%2C+%22session_name%22%3A+1%2C+%22subject.subject_id%22%3A+1%7D",
     "output_type": "error",
     "traceback": [
      "\u001b[0;31m---------------------------------------------------------------------------\u001b[0m",
      "\u001b[0;31mHTTPError\u001b[0m                                 Traceback (most recent call last)",
      "Cell \u001b[0;32mIn[4], line 1\u001b[0m\n\u001b[0;32m----> 1\u001b[0m df \u001b[38;5;241m=\u001b[39m \u001b[43mget_assets_by_session\u001b[49m\u001b[43m(\u001b[49m\u001b[38;5;124;43m\"\u001b[39;49m\u001b[38;5;124;43mbehavior_751181_2025-02-27_11-24-44\u001b[39;49m\u001b[38;5;124;43m\"\u001b[39;49m\u001b[43m,\u001b[49m\u001b[43mmodality\u001b[49m\u001b[38;5;241;43m=\u001b[39;49m\u001b[43m[\u001b[49m\u001b[43m]\u001b[49m\u001b[43m)\u001b[49m\n",
      "Cell \u001b[0;32mIn[2], line 52\u001b[0m, in \u001b[0;36mget_assets_by_session\u001b[0;34m(session_input, modifier, modality, subjects)\u001b[0m\n\u001b[1;32m     45\u001b[0m \u001b[38;5;66;03m# --- Query docDB ---\u001b[39;00m\n\u001b[1;32m     46\u001b[0m client \u001b[38;5;241m=\u001b[39m MetadataDbClient(\n\u001b[1;32m     47\u001b[0m     host\u001b[38;5;241m=\u001b[39m\u001b[38;5;124m\"\u001b[39m\u001b[38;5;124mapi.allenneuraldynamics.org\u001b[39m\u001b[38;5;124m\"\u001b[39m,\n\u001b[1;32m     48\u001b[0m     database\u001b[38;5;241m=\u001b[39m\u001b[38;5;124m\"\u001b[39m\u001b[38;5;124mmetadata_index\u001b[39m\u001b[38;5;124m\"\u001b[39m,\n\u001b[1;32m     49\u001b[0m     collection\u001b[38;5;241m=\u001b[39m\u001b[38;5;124m\"\u001b[39m\u001b[38;5;124mdata_assets\u001b[39m\u001b[38;5;124m\"\u001b[39m\n\u001b[1;32m     50\u001b[0m )\n\u001b[1;32m     51\u001b[0m df \u001b[38;5;241m=\u001b[39m pd\u001b[38;5;241m.\u001b[39mDataFrame(\n\u001b[0;32m---> 52\u001b[0m     \u001b[43mclient\u001b[49m\u001b[38;5;241;43m.\u001b[39;49m\u001b[43mretrieve_docdb_records\u001b[49m\u001b[43m(\u001b[49m\n\u001b[1;32m     53\u001b[0m \u001b[43m        \u001b[49m\u001b[43mfilter_query\u001b[49m\u001b[38;5;241;43m=\u001b[39;49m\u001b[43m{\u001b[49m\u001b[38;5;241;43m*\u001b[39;49m\u001b[38;5;241;43m*\u001b[39;49m\u001b[43msubject_filter\u001b[49m\u001b[43m,\u001b[49m\u001b[43m \u001b[49m\u001b[38;5;241;43m*\u001b[39;49m\u001b[38;5;241;43m*\u001b[39;49m\u001b[43mmodality_filter\u001b[49m\u001b[43m,\u001b[49m\u001b[43m \u001b[49m\u001b[38;5;241;43m*\u001b[39;49m\u001b[38;5;241;43m*\u001b[39;49m\u001b[43mextra_filter\u001b[49m\u001b[43m}\u001b[49m\u001b[43m,\u001b[49m\n\u001b[1;32m     54\u001b[0m \u001b[43m        \u001b[49m\u001b[43mprojection\u001b[49m\u001b[38;5;241;43m=\u001b[39;49m\u001b[43m{\u001b[49m\u001b[38;5;124;43m\"\u001b[39;49m\u001b[38;5;124;43mname\u001b[39;49m\u001b[38;5;124;43m\"\u001b[39;49m\u001b[43m:\u001b[49m\u001b[43m \u001b[49m\u001b[38;5;241;43m1\u001b[39;49m\u001b[43m,\u001b[49m\u001b[43m \u001b[49m\u001b[38;5;124;43m\"\u001b[39;49m\u001b[38;5;124;43mexternal_links\u001b[39;49m\u001b[38;5;124;43m\"\u001b[39;49m\u001b[43m:\u001b[49m\u001b[43m \u001b[49m\u001b[38;5;241;43m1\u001b[39;49m\u001b[43m,\u001b[49m\u001b[43m \u001b[49m\u001b[38;5;124;43m\"\u001b[39;49m\u001b[38;5;124;43msession_name\u001b[39;49m\u001b[38;5;124;43m\"\u001b[39;49m\u001b[43m:\u001b[49m\u001b[43m \u001b[49m\u001b[38;5;241;43m1\u001b[39;49m\u001b[43m,\u001b[49m\u001b[43m \u001b[49m\u001b[38;5;124;43m\"\u001b[39;49m\u001b[38;5;124;43msubject.subject_id\u001b[39;49m\u001b[38;5;124;43m\"\u001b[39;49m\u001b[43m:\u001b[49m\u001b[43m \u001b[49m\u001b[38;5;241;43m1\u001b[39;49m\u001b[43m}\u001b[49m\u001b[43m,\u001b[49m\n\u001b[1;32m     55\u001b[0m \u001b[43m    \u001b[49m\u001b[43m)\u001b[49m\n\u001b[1;32m     56\u001b[0m )\n\u001b[1;32m     58\u001b[0m \u001b[38;5;28;01mif\u001b[39;00m df\u001b[38;5;241m.\u001b[39mempty:\n\u001b[1;32m     59\u001b[0m     \u001b[38;5;28;01mreturn\u001b[39;00m df\n",
      "File \u001b[0;32m/opt/conda/lib/python3.9/site-packages/aind_data_access_api/document_db.py:390\u001b[0m, in \u001b[0;36mClient.retrieve_docdb_records\u001b[0;34m(self, filter_query, projection, sort, limit, paginate, paginate_batch_size, paginate_max_iterations)\u001b[0m\n\u001b[1;32m    388\u001b[0m skip \u001b[38;5;241m=\u001b[39m \u001b[38;5;241m0\u001b[39m\n\u001b[1;32m    389\u001b[0m \u001b[38;5;28;01mwhile\u001b[39;00m get_all_records \u001b[38;5;129;01mor\u001b[39;00m limit \u001b[38;5;241m>\u001b[39m \u001b[38;5;241m0\u001b[39m:\n\u001b[0;32m--> 390\u001b[0m     batched_records \u001b[38;5;241m=\u001b[39m \u001b[38;5;28;43mself\u001b[39;49m\u001b[38;5;241;43m.\u001b[39;49m\u001b[43m_find_records\u001b[49m\u001b[43m(\u001b[49m\n\u001b[1;32m    391\u001b[0m \u001b[43m        \u001b[49m\u001b[43mfilter_query\u001b[49m\u001b[38;5;241;43m=\u001b[39;49m\u001b[43mfilter_query\u001b[49m\u001b[43m,\u001b[49m\n\u001b[1;32m    392\u001b[0m \u001b[43m        \u001b[49m\u001b[43mprojection\u001b[49m\u001b[38;5;241;43m=\u001b[39;49m\u001b[43mprojection\u001b[49m\u001b[43m,\u001b[49m\n\u001b[1;32m    393\u001b[0m \u001b[43m        \u001b[49m\u001b[43msort\u001b[49m\u001b[38;5;241;43m=\u001b[39;49m\u001b[43msort\u001b[49m\u001b[43m,\u001b[49m\n\u001b[1;32m    394\u001b[0m \u001b[43m        \u001b[49m\u001b[43mlimit\u001b[49m\u001b[38;5;241;43m=\u001b[39;49m\u001b[43mlimit\u001b[49m\u001b[43m,\u001b[49m\n\u001b[1;32m    395\u001b[0m \u001b[43m        \u001b[49m\u001b[43mskip\u001b[49m\u001b[38;5;241;43m=\u001b[39;49m\u001b[43mskip\u001b[49m\u001b[43m,\u001b[49m\n\u001b[1;32m    396\u001b[0m \u001b[43m    \u001b[49m\u001b[43m)\u001b[49m\n\u001b[1;32m    397\u001b[0m     batch_size \u001b[38;5;241m=\u001b[39m \u001b[38;5;28mlen\u001b[39m(batched_records)\n\u001b[1;32m    398\u001b[0m     logging\u001b[38;5;241m.\u001b[39mdebug(\n\u001b[1;32m    399\u001b[0m         \u001b[38;5;124mf\u001b[39m\u001b[38;5;124m\"\u001b[39m\u001b[38;5;124m(skip=\u001b[39m\u001b[38;5;132;01m{\u001b[39;00mskip\u001b[38;5;132;01m}\u001b[39;00m\u001b[38;5;124m, limit=\u001b[39m\u001b[38;5;132;01m{\u001b[39;00mlimit\u001b[38;5;132;01m}\u001b[39;00m\u001b[38;5;124m): Retrieved \u001b[39m\u001b[38;5;132;01m{\u001b[39;00mbatch_size\u001b[38;5;132;01m}\u001b[39;00m\u001b[38;5;124m records\u001b[39m\u001b[38;5;124m\"\u001b[39m\n\u001b[1;32m    400\u001b[0m     )\n",
      "File \u001b[0;32m/opt/conda/lib/python3.9/site-packages/aind_data_access_api/document_db.py:219\u001b[0m, in \u001b[0;36mClient._find_records\u001b[0;34m(self, filter_query, projection, sort, limit, skip)\u001b[0m\n\u001b[1;32m    216\u001b[0m     params[\u001b[38;5;124m\"\u001b[39m\u001b[38;5;124msort\u001b[39m\u001b[38;5;124m\"\u001b[39m] \u001b[38;5;241m=\u001b[39m json\u001b[38;5;241m.\u001b[39mdumps(sort)\n\u001b[1;32m    218\u001b[0m response \u001b[38;5;241m=\u001b[39m \u001b[38;5;28mself\u001b[39m\u001b[38;5;241m.\u001b[39msession\u001b[38;5;241m.\u001b[39mget(\u001b[38;5;28mself\u001b[39m\u001b[38;5;241m.\u001b[39m_find_url, params\u001b[38;5;241m=\u001b[39mparams)\n\u001b[0;32m--> 219\u001b[0m \u001b[43mresponse\u001b[49m\u001b[38;5;241;43m.\u001b[39;49m\u001b[43mraise_for_status\u001b[49m\u001b[43m(\u001b[49m\u001b[43m)\u001b[49m\n\u001b[1;32m    220\u001b[0m response_body \u001b[38;5;241m=\u001b[39m response\u001b[38;5;241m.\u001b[39mjson()\n\u001b[1;32m    221\u001b[0m \u001b[38;5;28;01mreturn\u001b[39;00m response_body\n",
      "File \u001b[0;32m/opt/conda/lib/python3.9/site-packages/requests/models.py:1021\u001b[0m, in \u001b[0;36mResponse.raise_for_status\u001b[0;34m(self)\u001b[0m\n\u001b[1;32m   1016\u001b[0m     http_error_msg \u001b[38;5;241m=\u001b[39m (\n\u001b[1;32m   1017\u001b[0m         \u001b[38;5;124mf\u001b[39m\u001b[38;5;124m\"\u001b[39m\u001b[38;5;132;01m{\u001b[39;00m\u001b[38;5;28mself\u001b[39m\u001b[38;5;241m.\u001b[39mstatus_code\u001b[38;5;132;01m}\u001b[39;00m\u001b[38;5;124m Server Error: \u001b[39m\u001b[38;5;132;01m{\u001b[39;00mreason\u001b[38;5;132;01m}\u001b[39;00m\u001b[38;5;124m for url: \u001b[39m\u001b[38;5;132;01m{\u001b[39;00m\u001b[38;5;28mself\u001b[39m\u001b[38;5;241m.\u001b[39murl\u001b[38;5;132;01m}\u001b[39;00m\u001b[38;5;124m\"\u001b[39m\n\u001b[1;32m   1018\u001b[0m     )\n\u001b[1;32m   1020\u001b[0m \u001b[38;5;28;01mif\u001b[39;00m http_error_msg:\n\u001b[0;32m-> 1021\u001b[0m     \u001b[38;5;28;01mraise\u001b[39;00m HTTPError(http_error_msg, response\u001b[38;5;241m=\u001b[39m\u001b[38;5;28mself\u001b[39m)\n",
      "\u001b[0;31mHTTPError\u001b[0m: 503 Server Error: Service Unavailable for url: https://api.allenneuraldynamics.org/v1/metadata_index/data_assets/find?limit=0&skip=0&filter=%7B%22name%22%3A+%7B%22%24regex%22%3A+%22%5Ebehavior_751181_2025%5C%5C-02%5C%5C-27%28%3F%3A_%5C%5Cd%7B2%7D-%5C%5Cd%7B2%7D-%5C%5Cd%7B2%7D%29%3F%28%3F%3A_.%2A%29%3F%24%22%7D%7D&projection=%7B%22name%22%3A+1%2C+%22external_links%22%3A+1%2C+%22session_name%22%3A+1%2C+%22subject.subject_id%22%3A+1%7D"
     ]
    }
   ],
   "source": [
    "df = get_assets_by_session(\"behavior_751181_2025-02-27_11-24-44\",modality=[])\n"
   ]
  },
  {
   "cell_type": "code",
   "execution_count": null,
   "id": "04fea320",
   "metadata": {},
   "outputs": [
    {
     "name": "stdout",
     "output_type": "stream",
     "text": [
      "['behavior_758017_2025-02-04_11-57-33_curated-ZhixiaoSu_2025-02-19_16-51-34', 'behavior_758017_2025-02-04_11-57-33_videoprocessed_2025-07-17', 'behavior_758017_2025-02-04_11-57-33', 'behavior_758017_2025-02-04_11-57-33_sorted_2025-02-05_03-42-01', 'behavior_758017_2025-02-04_11-57-33_sorted_opto_bandpass_2025-02-18_05-10-02', 'behavior_758017_2025-02-04_11-57-33_sorted-opto_2025-02-06_01-17-42', 'behavior_758017_2025-02-04_11-57-33_sorted_curated_2025-02-25_12-16-48']\n"
     ]
    }
   ],
   "source": [
    "print(df['name'].tolist())\n"
   ]
  },
  {
   "cell_type": "code",
   "execution_count": 8,
   "id": "19d7f7ee",
   "metadata": {},
   "outputs": [
    {
     "data": {
      "text/html": [
       "<div>\n",
       "<style scoped>\n",
       "    .dataframe tbody tr th:only-of-type {\n",
       "        vertical-align: middle;\n",
       "    }\n",
       "\n",
       "    .dataframe tbody tr th {\n",
       "        vertical-align: top;\n",
       "    }\n",
       "\n",
       "    .dataframe thead th {\n",
       "        text-align: right;\n",
       "    }\n",
       "</style>\n",
       "<table border=\"1\" class=\"dataframe\">\n",
       "  <thead>\n",
       "    <tr style=\"text-align: right;\">\n",
       "      <th></th>\n",
       "      <th>_id</th>\n",
       "      <th>external_links</th>\n",
       "      <th>name</th>\n",
       "      <th>subject</th>\n",
       "      <th>code_ocean_asset_id</th>\n",
       "    </tr>\n",
       "  </thead>\n",
       "  <tbody>\n",
       "    <tr>\n",
       "      <th>0</th>\n",
       "      <td>659c847f-fc80-41da-8c21-af87ba8a5ac6</td>\n",
       "      <td>{'Code Ocean': ['f11b62e9-9ecb-441b-97ba-a7daa...</td>\n",
       "      <td>behavior_758017_2025-02-04_11-57-33_curated-Zh...</td>\n",
       "      <td>NaN</td>\n",
       "      <td>f11b62e9-9ecb-441b-97ba-a7daa92e8060</td>\n",
       "    </tr>\n",
       "    <tr>\n",
       "      <th>1</th>\n",
       "      <td>2716f46e-3ea6-4b6e-965c-b8f6d3a975ac</td>\n",
       "      <td>{'Code Ocean': ['e740d882-8503-4a30-a764-7340a...</td>\n",
       "      <td>behavior_758017_2025-02-04_11-57-33_videoproce...</td>\n",
       "      <td>{'subject_id': '758017'}</td>\n",
       "      <td>e740d882-8503-4a30-a764-7340aa250b73</td>\n",
       "    </tr>\n",
       "    <tr>\n",
       "      <th>2</th>\n",
       "      <td>7318a879-6aa9-48a1-bae7-73e3e1e2eb0a</td>\n",
       "      <td>{'Code Ocean': ['75f7920a-17c9-4e0c-8259-aee69...</td>\n",
       "      <td>behavior_758017_2025-02-04_11-57-33</td>\n",
       "      <td>{'subject_id': '758017'}</td>\n",
       "      <td>75f7920a-17c9-4e0c-8259-aee69e0544b2</td>\n",
       "    </tr>\n",
       "    <tr>\n",
       "      <th>3</th>\n",
       "      <td>10a0d897-e2ea-4945-a656-c3b900f283d1</td>\n",
       "      <td>{'Code Ocean': ['d4f4b00a-6603-41ef-99e1-7277e...</td>\n",
       "      <td>behavior_758017_2025-02-04_11-57-33_sorted_202...</td>\n",
       "      <td>{'subject_id': '758017'}</td>\n",
       "      <td>d4f4b00a-6603-41ef-99e1-7277e844bca5</td>\n",
       "    </tr>\n",
       "    <tr>\n",
       "      <th>4</th>\n",
       "      <td>8147f8a8-c42c-4bcf-a88f-1d1632e7309e</td>\n",
       "      <td>{'Code Ocean': ['6a851057-6523-446c-8108-e5792...</td>\n",
       "      <td>behavior_758017_2025-02-04_11-57-33_sorted_opt...</td>\n",
       "      <td>{'subject_id': '758017'}</td>\n",
       "      <td>6a851057-6523-446c-8108-e57924bdca92</td>\n",
       "    </tr>\n",
       "    <tr>\n",
       "      <th>5</th>\n",
       "      <td>9f9d8fff-776e-4e29-a5bb-12c7555388fd</td>\n",
       "      <td>{'Code Ocean': ['2efd0064-8eb1-4124-8232-37ff7...</td>\n",
       "      <td>behavior_758017_2025-02-04_11-57-33_sorted-opt...</td>\n",
       "      <td>{'subject_id': '758017'}</td>\n",
       "      <td>2efd0064-8eb1-4124-8232-37ff7c7b96e1</td>\n",
       "    </tr>\n",
       "    <tr>\n",
       "      <th>6</th>\n",
       "      <td>9413c97d-a45b-4e76-91af-0c86eab66ba5</td>\n",
       "      <td>{'Code Ocean': ['c22f4d4e-12aa-4ad1-82ed-1301c...</td>\n",
       "      <td>behavior_758017_2025-02-04_11-57-33_sorted_cur...</td>\n",
       "      <td>{'subject_id': '758017'}</td>\n",
       "      <td>c22f4d4e-12aa-4ad1-82ed-1301c279c270</td>\n",
       "    </tr>\n",
       "  </tbody>\n",
       "</table>\n",
       "</div>"
      ],
      "text/plain": [
       "                                    _id  \\\n",
       "0  659c847f-fc80-41da-8c21-af87ba8a5ac6   \n",
       "1  2716f46e-3ea6-4b6e-965c-b8f6d3a975ac   \n",
       "2  7318a879-6aa9-48a1-bae7-73e3e1e2eb0a   \n",
       "3  10a0d897-e2ea-4945-a656-c3b900f283d1   \n",
       "4  8147f8a8-c42c-4bcf-a88f-1d1632e7309e   \n",
       "5  9f9d8fff-776e-4e29-a5bb-12c7555388fd   \n",
       "6  9413c97d-a45b-4e76-91af-0c86eab66ba5   \n",
       "\n",
       "                                      external_links  \\\n",
       "0  {'Code Ocean': ['f11b62e9-9ecb-441b-97ba-a7daa...   \n",
       "1  {'Code Ocean': ['e740d882-8503-4a30-a764-7340a...   \n",
       "2  {'Code Ocean': ['75f7920a-17c9-4e0c-8259-aee69...   \n",
       "3  {'Code Ocean': ['d4f4b00a-6603-41ef-99e1-7277e...   \n",
       "4  {'Code Ocean': ['6a851057-6523-446c-8108-e5792...   \n",
       "5  {'Code Ocean': ['2efd0064-8eb1-4124-8232-37ff7...   \n",
       "6  {'Code Ocean': ['c22f4d4e-12aa-4ad1-82ed-1301c...   \n",
       "\n",
       "                                                name  \\\n",
       "0  behavior_758017_2025-02-04_11-57-33_curated-Zh...   \n",
       "1  behavior_758017_2025-02-04_11-57-33_videoproce...   \n",
       "2                behavior_758017_2025-02-04_11-57-33   \n",
       "3  behavior_758017_2025-02-04_11-57-33_sorted_202...   \n",
       "4  behavior_758017_2025-02-04_11-57-33_sorted_opt...   \n",
       "5  behavior_758017_2025-02-04_11-57-33_sorted-opt...   \n",
       "6  behavior_758017_2025-02-04_11-57-33_sorted_cur...   \n",
       "\n",
       "                    subject                   code_ocean_asset_id  \n",
       "0                       NaN  f11b62e9-9ecb-441b-97ba-a7daa92e8060  \n",
       "1  {'subject_id': '758017'}  e740d882-8503-4a30-a764-7340aa250b73  \n",
       "2  {'subject_id': '758017'}  75f7920a-17c9-4e0c-8259-aee69e0544b2  \n",
       "3  {'subject_id': '758017'}  d4f4b00a-6603-41ef-99e1-7277e844bca5  \n",
       "4  {'subject_id': '758017'}  6a851057-6523-446c-8108-e57924bdca92  \n",
       "5  {'subject_id': '758017'}  2efd0064-8eb1-4124-8232-37ff7c7b96e1  \n",
       "6  {'subject_id': '758017'}  c22f4d4e-12aa-4ad1-82ed-1301c279c270  "
      ]
     },
     "execution_count": 8,
     "metadata": {},
     "output_type": "execute_result"
    }
   ],
   "source": [
    "df"
   ]
  },
  {
   "cell_type": "code",
   "execution_count": 15,
   "id": "43bf51cf",
   "metadata": {},
   "outputs": [],
   "source": [
    "df2 = get_assets_by_session(\n",
    "    session_input=\"behavior_758017_2025-02-04_11-57-33\",\n",
    "    modifier=\"videoprocessed\",     # ← this restricts results to names containing \"_videoprocessed\"\n",
    "    modality=[],                   # no modality filtering\n",
    ")\n"
   ]
  },
  {
   "cell_type": "code",
   "execution_count": 16,
   "id": "87861c4b",
   "metadata": {},
   "outputs": [
    {
     "data": {
      "text/plain": [
       "['behavior_758017_2025-02-04_11-57-33_videoprocessed_2025-07-17']"
      ]
     },
     "execution_count": 16,
     "metadata": {},
     "output_type": "execute_result"
    }
   ],
   "source": [
    "df2.name.tolist()"
   ]
  },
  {
   "cell_type": "code",
   "execution_count": 17,
   "id": "1dd05d95",
   "metadata": {},
   "outputs": [
    {
     "name": "stdout",
     "output_type": "stream",
     "text": [
      "0 match(es) for exact name\n"
     ]
    },
    {
     "ename": "KeyError",
     "evalue": "\"None of [Index(['name', '_id', 'external_links'], dtype='object')] are in the [columns]\"",
     "output_type": "error",
     "traceback": [
      "\u001b[0;31m---------------------------------------------------------------------------\u001b[0m",
      "\u001b[0;31mKeyError\u001b[0m                                  Traceback (most recent call last)",
      "Cell \u001b[0;32mIn[17], line 18\u001b[0m\n\u001b[1;32m     12\u001b[0m df_by_name \u001b[38;5;241m=\u001b[39m pd\u001b[38;5;241m.\u001b[39mDataFrame(client\u001b[38;5;241m.\u001b[39mretrieve_docdb_records(\n\u001b[1;32m     13\u001b[0m     filter_query\u001b[38;5;241m=\u001b[39m{\u001b[38;5;124m\"\u001b[39m\u001b[38;5;124mname\u001b[39m\u001b[38;5;124m\"\u001b[39m: exact_name},   \u001b[38;5;66;03m# exact string match\u001b[39;00m\n\u001b[1;32m     14\u001b[0m     projection\u001b[38;5;241m=\u001b[39m\u001b[38;5;28;01mNone\u001b[39;00m                      \u001b[38;5;66;03m# get full doc (avoid losing fields)\u001b[39;00m\n\u001b[1;32m     15\u001b[0m ))\n\u001b[1;32m     17\u001b[0m \u001b[38;5;28mprint\u001b[39m(\u001b[38;5;28mlen\u001b[39m(df_by_name), \u001b[38;5;124m\"\u001b[39m\u001b[38;5;124mmatch(es) for exact name\u001b[39m\u001b[38;5;124m\"\u001b[39m)\n\u001b[0;32m---> 18\u001b[0m \u001b[43mdf_by_name\u001b[49m\u001b[43m[\u001b[49m\u001b[43m[\u001b[49m\u001b[38;5;124;43m\"\u001b[39;49m\u001b[38;5;124;43mname\u001b[39;49m\u001b[38;5;124;43m\"\u001b[39;49m\u001b[43m,\u001b[49m\u001b[43m \u001b[49m\u001b[38;5;124;43m\"\u001b[39;49m\u001b[38;5;124;43m_id\u001b[39;49m\u001b[38;5;124;43m\"\u001b[39;49m\u001b[43m,\u001b[49m\u001b[43m \u001b[49m\u001b[38;5;124;43m\"\u001b[39;49m\u001b[38;5;124;43mexternal_links\u001b[39;49m\u001b[38;5;124;43m\"\u001b[39;49m\u001b[43m]\u001b[49m\u001b[43m]\u001b[49m\n",
      "File \u001b[0;32m/opt/conda/lib/python3.9/site-packages/pandas/core/frame.py:4113\u001b[0m, in \u001b[0;36mDataFrame.__getitem__\u001b[0;34m(self, key)\u001b[0m\n\u001b[1;32m   4111\u001b[0m     \u001b[38;5;28;01mif\u001b[39;00m is_iterator(key):\n\u001b[1;32m   4112\u001b[0m         key \u001b[38;5;241m=\u001b[39m \u001b[38;5;28mlist\u001b[39m(key)\n\u001b[0;32m-> 4113\u001b[0m     indexer \u001b[38;5;241m=\u001b[39m \u001b[38;5;28;43mself\u001b[39;49m\u001b[38;5;241;43m.\u001b[39;49m\u001b[43mcolumns\u001b[49m\u001b[38;5;241;43m.\u001b[39;49m\u001b[43m_get_indexer_strict\u001b[49m\u001b[43m(\u001b[49m\u001b[43mkey\u001b[49m\u001b[43m,\u001b[49m\u001b[43m \u001b[49m\u001b[38;5;124;43m\"\u001b[39;49m\u001b[38;5;124;43mcolumns\u001b[39;49m\u001b[38;5;124;43m\"\u001b[39;49m\u001b[43m)\u001b[49m[\u001b[38;5;241m1\u001b[39m]\n\u001b[1;32m   4115\u001b[0m \u001b[38;5;66;03m# take() does not accept boolean indexers\u001b[39;00m\n\u001b[1;32m   4116\u001b[0m \u001b[38;5;28;01mif\u001b[39;00m \u001b[38;5;28mgetattr\u001b[39m(indexer, \u001b[38;5;124m\"\u001b[39m\u001b[38;5;124mdtype\u001b[39m\u001b[38;5;124m\"\u001b[39m, \u001b[38;5;28;01mNone\u001b[39;00m) \u001b[38;5;241m==\u001b[39m \u001b[38;5;28mbool\u001b[39m:\n",
      "File \u001b[0;32m/opt/conda/lib/python3.9/site-packages/pandas/core/indexes/base.py:6212\u001b[0m, in \u001b[0;36mIndex._get_indexer_strict\u001b[0;34m(self, key, axis_name)\u001b[0m\n\u001b[1;32m   6209\u001b[0m \u001b[38;5;28;01melse\u001b[39;00m:\n\u001b[1;32m   6210\u001b[0m     keyarr, indexer, new_indexer \u001b[38;5;241m=\u001b[39m \u001b[38;5;28mself\u001b[39m\u001b[38;5;241m.\u001b[39m_reindex_non_unique(keyarr)\n\u001b[0;32m-> 6212\u001b[0m \u001b[38;5;28;43mself\u001b[39;49m\u001b[38;5;241;43m.\u001b[39;49m\u001b[43m_raise_if_missing\u001b[49m\u001b[43m(\u001b[49m\u001b[43mkeyarr\u001b[49m\u001b[43m,\u001b[49m\u001b[43m \u001b[49m\u001b[43mindexer\u001b[49m\u001b[43m,\u001b[49m\u001b[43m \u001b[49m\u001b[43maxis_name\u001b[49m\u001b[43m)\u001b[49m\n\u001b[1;32m   6214\u001b[0m keyarr \u001b[38;5;241m=\u001b[39m \u001b[38;5;28mself\u001b[39m\u001b[38;5;241m.\u001b[39mtake(indexer)\n\u001b[1;32m   6215\u001b[0m \u001b[38;5;28;01mif\u001b[39;00m \u001b[38;5;28misinstance\u001b[39m(key, Index):\n\u001b[1;32m   6216\u001b[0m     \u001b[38;5;66;03m# GH 42790 - Preserve name from an Index\u001b[39;00m\n",
      "File \u001b[0;32m/opt/conda/lib/python3.9/site-packages/pandas/core/indexes/base.py:6261\u001b[0m, in \u001b[0;36mIndex._raise_if_missing\u001b[0;34m(self, key, indexer, axis_name)\u001b[0m\n\u001b[1;32m   6259\u001b[0m \u001b[38;5;28;01mif\u001b[39;00m nmissing:\n\u001b[1;32m   6260\u001b[0m     \u001b[38;5;28;01mif\u001b[39;00m nmissing \u001b[38;5;241m==\u001b[39m \u001b[38;5;28mlen\u001b[39m(indexer):\n\u001b[0;32m-> 6261\u001b[0m         \u001b[38;5;28;01mraise\u001b[39;00m \u001b[38;5;167;01mKeyError\u001b[39;00m(\u001b[38;5;124mf\u001b[39m\u001b[38;5;124m\"\u001b[39m\u001b[38;5;124mNone of [\u001b[39m\u001b[38;5;132;01m{\u001b[39;00mkey\u001b[38;5;132;01m}\u001b[39;00m\u001b[38;5;124m] are in the [\u001b[39m\u001b[38;5;132;01m{\u001b[39;00maxis_name\u001b[38;5;132;01m}\u001b[39;00m\u001b[38;5;124m]\u001b[39m\u001b[38;5;124m\"\u001b[39m)\n\u001b[1;32m   6263\u001b[0m     not_found \u001b[38;5;241m=\u001b[39m \u001b[38;5;28mlist\u001b[39m(ensure_index(key)[missing_mask\u001b[38;5;241m.\u001b[39mnonzero()[\u001b[38;5;241m0\u001b[39m]]\u001b[38;5;241m.\u001b[39munique())\n\u001b[1;32m   6264\u001b[0m     \u001b[38;5;28;01mraise\u001b[39;00m \u001b[38;5;167;01mKeyError\u001b[39;00m(\u001b[38;5;124mf\u001b[39m\u001b[38;5;124m\"\u001b[39m\u001b[38;5;132;01m{\u001b[39;00mnot_found\u001b[38;5;132;01m}\u001b[39;00m\u001b[38;5;124m not in index\u001b[39m\u001b[38;5;124m\"\u001b[39m)\n",
      "\u001b[0;31mKeyError\u001b[0m: \"None of [Index(['name', '_id', 'external_links'], dtype='object')] are in the [columns]\""
     ]
    }
   ],
   "source": [
    "import pandas as pd\n",
    "from aind_data_access_api.document_db import MetadataDbClient\n",
    "\n",
    "exact_name = \"behavior_758017_2025-02-04_11-57-33_videoprocessed_2025-10-24_21-43-19\"\n",
    "\n",
    "client = MetadataDbClient(\n",
    "    host=\"api.allenneuraldynamics.org\",\n",
    "    database=\"metadata_index\",\n",
    "    collection=\"data_assets\",\n",
    ")\n",
    "\n",
    "df_by_name = pd.DataFrame(client.retrieve_docdb_records(\n",
    "    filter_query={\"name\": exact_name},   # exact string match\n",
    "    projection=None                      # get full doc (avoid losing fields)\n",
    "))\n",
    "\n",
    "print(len(df_by_name), \"match(es) for exact name\")\n",
    "df_by_name[[\"name\", \"_id\", \"external_links\"]]\n"
   ]
  },
  {
   "cell_type": "code",
   "execution_count": 22,
   "id": "a10bf2e7",
   "metadata": {},
   "outputs": [
    {
     "name": "stdout",
     "output_type": "stream",
     "text": [
      "1 match(es) for asset_id\n"
     ]
    },
    {
     "data": {
      "text/html": [
       "<div>\n",
       "<style scoped>\n",
       "    .dataframe tbody tr th:only-of-type {\n",
       "        vertical-align: middle;\n",
       "    }\n",
       "\n",
       "    .dataframe tbody tr th {\n",
       "        vertical-align: top;\n",
       "    }\n",
       "\n",
       "    .dataframe thead th {\n",
       "        text-align: right;\n",
       "    }\n",
       "</style>\n",
       "<table border=\"1\" class=\"dataframe\">\n",
       "  <thead>\n",
       "    <tr style=\"text-align: right;\">\n",
       "      <th></th>\n",
       "      <th>name</th>\n",
       "      <th>_id</th>\n",
       "      <th>external_links</th>\n",
       "    </tr>\n",
       "  </thead>\n",
       "  <tbody>\n",
       "    <tr>\n",
       "      <th>0</th>\n",
       "      <td>behavior_758017_2025-02-04_11-57-33_videoproce...</td>\n",
       "      <td>2716f46e-3ea6-4b6e-965c-b8f6d3a975ac</td>\n",
       "      <td>{'Code Ocean': ['e740d882-8503-4a30-a764-7340a...</td>\n",
       "    </tr>\n",
       "  </tbody>\n",
       "</table>\n",
       "</div>"
      ],
      "text/plain": [
       "                                                name  \\\n",
       "0  behavior_758017_2025-02-04_11-57-33_videoproce...   \n",
       "\n",
       "                                    _id  \\\n",
       "0  2716f46e-3ea6-4b6e-965c-b8f6d3a975ac   \n",
       "\n",
       "                                      external_links  \n",
       "0  {'Code Ocean': ['e740d882-8503-4a30-a764-7340a...  "
      ]
     },
     "execution_count": 22,
     "metadata": {},
     "output_type": "execute_result"
    }
   ],
   "source": [
    "asset_id = \"e740d882-8503-4a30-a764-7340aa250b73\"\n",
    "\n",
    "df_by_id = pd.DataFrame(client.retrieve_docdb_records(\n",
    "    filter_query={\n",
    "        \"$or\": [\n",
    "            {\"external_links.Code Ocean\": asset_id},               # string form\n",
    "            {\"external_links.Code Ocean\": {\"$in\": [asset_id]}},    # list form\n",
    "        ]\n",
    "    },\n",
    "    projection=None\n",
    "))\n",
    "\n",
    "print(len(df_by_id), \"match(es) for asset_id\")\n",
    "df_by_id[[\"name\", \"_id\", \"external_links\"]]\n"
   ]
  },
  {
   "cell_type": "code",
   "execution_count": null,
   "id": "b0ce3bef",
   "metadata": {},
   "outputs": [],
   "source": []
  },
  {
   "cell_type": "code",
   "execution_count": null,
   "id": "bc66c05a",
   "metadata": {},
   "outputs": [],
   "source": []
  },
  {
   "cell_type": "code",
   "execution_count": null,
   "id": "c42d588c",
   "metadata": {},
   "outputs": [],
   "source": []
  },
  {
   "cell_type": "code",
   "execution_count": null,
   "id": "66bbe671",
   "metadata": {},
   "outputs": [],
   "source": []
  },
  {
   "cell_type": "code",
   "execution_count": 2,
   "id": "2a9da818",
   "metadata": {},
   "outputs": [],
   "source": [
    "from typing import Optional, List\n",
    "import os\n",
    "import warnings\n",
    "import pandas as pd\n",
    "from aind_data_access_api.document_db import MetadataDbClient\n",
    "from codeocean import CodeOcean\n",
    "from codeocean.data_asset import DataAssetAttachParams\n",
    "\n",
    "\n",
    "def get_assets_by_session(\n",
    "    session_id: str,\n",
    "    modifier: Optional[str] = None,\n",
    "    modality: Optional[List[str]] = None,\n",
    "    processed: Optional[bool] = None,\n",
    "):\n",
    "    \"\"\"\n",
    "    Return ALL data assets in docDB that belong to the given session_id.\n",
    "    \"\"\"\n",
    "    modality = modality or []\n",
    "\n",
    "    client = MetadataDbClient(\n",
    "        host=\"api.allenneuraldynamics.org\",\n",
    "        database=\"metadata_index\",\n",
    "        collection=\"data_assets\",\n",
    "    )\n",
    "\n",
    "    name_regex = rf\"^{session_id}_.+\"\n",
    "    name_filter = {\"name\": {\"$regex\": name_regex}}\n",
    "\n",
    "    if processed is True:\n",
    "        proc_filter = {\"name\": {\"$regex\": r\"_processed_\"}}\n",
    "    elif processed is False:\n",
    "        proc_filter = {\"name\": {\"$not\": {\"$regex\": r\"_processed_\"}}}\n",
    "    else:\n",
    "        proc_filter = {}\n",
    "\n",
    "    if modifier:\n",
    "        mod_filter = {\"name\": {\"$regex\": modifier}}\n",
    "    else:\n",
    "        mod_filter = {}\n",
    "\n",
    "    if modality:\n",
    "        modality_filter = {\n",
    "            \"$or\": [{\"data_description.modality.abbreviation\": {\"$regex\": m}} for m in modality]\n",
    "        }\n",
    "    else:\n",
    "        modality_filter = {}\n",
    "\n",
    "    filter_query = {**name_filter, **proc_filter, **modality_filter, **mod_filter}\n",
    "\n",
    "    projection = {\n",
    "        \"name\": 1,\n",
    "        \"_id\": 1,\n",
    "        \"session\": 1,\n",
    "        \"session_name\": 1,\n",
    "        \"external_links\": 1,\n",
    "        \"data_description\": 1,\n",
    "    }\n",
    "\n",
    "    results = pd.DataFrame(\n",
    "        client.retrieve_docdb_records(filter_query=filter_query, projection=projection)\n",
    "    )\n",
    "\n",
    "    if results.empty:\n",
    "        return results\n",
    "\n",
    "    results[\"code_ocean_asset_id\"] = results[\"external_links\"].apply(\n",
    "        lambda link: (link.get(\"Code Ocean\", [\"\"])[0] if isinstance(link, dict) and \"Code Ocean\" in link else \"\")\n",
    "    )\n",
    "\n",
    "    results = results.sort_values(\"name\").reset_index(drop=True)\n",
    "    return results\n"
   ]
  },
  {
   "cell_type": "code",
   "execution_count": 3,
   "id": "9bcc7bef",
   "metadata": {},
   "outputs": [
    {
     "ename": "HTTPError",
     "evalue": "503 Server Error: Service Unavailable for url: https://api.allenneuraldynamics.org/v1/metadata_index/data_assets/find?limit=0&skip=0&filter=%7B%22name%22%3A+%7B%22%24regex%22%3A+%22%5Ebehavior_751181_2025-02-27_11-24-44_.%2B%22%7D%7D&projection=%7B%22name%22%3A+1%2C+%22_id%22%3A+1%2C+%22session%22%3A+1%2C+%22session_name%22%3A+1%2C+%22external_links%22%3A+1%2C+%22data_description%22%3A+1%7D",
     "output_type": "error",
     "traceback": [
      "\u001b[0;31m---------------------------------------------------------------------------\u001b[0m",
      "\u001b[0;31mHTTPError\u001b[0m                                 Traceback (most recent call last)",
      "Cell \u001b[0;32mIn[3], line 2\u001b[0m\n\u001b[1;32m      1\u001b[0m \u001b[38;5;66;03m# 1) All assets for the session (raw + processed)\u001b[39;00m\n\u001b[0;32m----> 2\u001b[0m df_all \u001b[38;5;241m=\u001b[39m \u001b[43mget_assets_by_session\u001b[49m\u001b[43m(\u001b[49m\u001b[38;5;124;43m\"\u001b[39;49m\u001b[38;5;124;43mbehavior_751181_2025-02-27_11-24-44\u001b[39;49m\u001b[38;5;124;43m\"\u001b[39;49m\u001b[43m)\u001b[49m\n",
      "Cell \u001b[0;32mIn[2], line 61\u001b[0m, in \u001b[0;36mget_assets_by_session\u001b[0;34m(session_id, modifier, modality, processed)\u001b[0m\n\u001b[1;32m     49\u001b[0m filter_query \u001b[38;5;241m=\u001b[39m {\u001b[38;5;241m*\u001b[39m\u001b[38;5;241m*\u001b[39mname_filter, \u001b[38;5;241m*\u001b[39m\u001b[38;5;241m*\u001b[39mproc_filter, \u001b[38;5;241m*\u001b[39m\u001b[38;5;241m*\u001b[39mmodality_filter, \u001b[38;5;241m*\u001b[39m\u001b[38;5;241m*\u001b[39mmod_filter}\n\u001b[1;32m     51\u001b[0m projection \u001b[38;5;241m=\u001b[39m {\n\u001b[1;32m     52\u001b[0m     \u001b[38;5;124m\"\u001b[39m\u001b[38;5;124mname\u001b[39m\u001b[38;5;124m\"\u001b[39m: \u001b[38;5;241m1\u001b[39m,\n\u001b[1;32m     53\u001b[0m     \u001b[38;5;124m\"\u001b[39m\u001b[38;5;124m_id\u001b[39m\u001b[38;5;124m\"\u001b[39m: \u001b[38;5;241m1\u001b[39m,\n\u001b[0;32m   (...)\u001b[0m\n\u001b[1;32m     57\u001b[0m     \u001b[38;5;124m\"\u001b[39m\u001b[38;5;124mdata_description\u001b[39m\u001b[38;5;124m\"\u001b[39m: \u001b[38;5;241m1\u001b[39m,\n\u001b[1;32m     58\u001b[0m }\n\u001b[1;32m     60\u001b[0m results \u001b[38;5;241m=\u001b[39m pd\u001b[38;5;241m.\u001b[39mDataFrame(\n\u001b[0;32m---> 61\u001b[0m     \u001b[43mclient\u001b[49m\u001b[38;5;241;43m.\u001b[39;49m\u001b[43mretrieve_docdb_records\u001b[49m\u001b[43m(\u001b[49m\u001b[43mfilter_query\u001b[49m\u001b[38;5;241;43m=\u001b[39;49m\u001b[43mfilter_query\u001b[49m\u001b[43m,\u001b[49m\u001b[43m \u001b[49m\u001b[43mprojection\u001b[49m\u001b[38;5;241;43m=\u001b[39;49m\u001b[43mprojection\u001b[49m\u001b[43m)\u001b[49m\n\u001b[1;32m     62\u001b[0m )\n\u001b[1;32m     64\u001b[0m \u001b[38;5;28;01mif\u001b[39;00m results\u001b[38;5;241m.\u001b[39mempty:\n\u001b[1;32m     65\u001b[0m     \u001b[38;5;28;01mreturn\u001b[39;00m results\n",
      "File \u001b[0;32m/opt/conda/lib/python3.9/site-packages/aind_data_access_api/document_db.py:390\u001b[0m, in \u001b[0;36mClient.retrieve_docdb_records\u001b[0;34m(self, filter_query, projection, sort, limit, paginate, paginate_batch_size, paginate_max_iterations)\u001b[0m\n\u001b[1;32m    388\u001b[0m skip \u001b[38;5;241m=\u001b[39m \u001b[38;5;241m0\u001b[39m\n\u001b[1;32m    389\u001b[0m \u001b[38;5;28;01mwhile\u001b[39;00m get_all_records \u001b[38;5;129;01mor\u001b[39;00m limit \u001b[38;5;241m>\u001b[39m \u001b[38;5;241m0\u001b[39m:\n\u001b[0;32m--> 390\u001b[0m     batched_records \u001b[38;5;241m=\u001b[39m \u001b[38;5;28;43mself\u001b[39;49m\u001b[38;5;241;43m.\u001b[39;49m\u001b[43m_find_records\u001b[49m\u001b[43m(\u001b[49m\n\u001b[1;32m    391\u001b[0m \u001b[43m        \u001b[49m\u001b[43mfilter_query\u001b[49m\u001b[38;5;241;43m=\u001b[39;49m\u001b[43mfilter_query\u001b[49m\u001b[43m,\u001b[49m\n\u001b[1;32m    392\u001b[0m \u001b[43m        \u001b[49m\u001b[43mprojection\u001b[49m\u001b[38;5;241;43m=\u001b[39;49m\u001b[43mprojection\u001b[49m\u001b[43m,\u001b[49m\n\u001b[1;32m    393\u001b[0m \u001b[43m        \u001b[49m\u001b[43msort\u001b[49m\u001b[38;5;241;43m=\u001b[39;49m\u001b[43msort\u001b[49m\u001b[43m,\u001b[49m\n\u001b[1;32m    394\u001b[0m \u001b[43m        \u001b[49m\u001b[43mlimit\u001b[49m\u001b[38;5;241;43m=\u001b[39;49m\u001b[43mlimit\u001b[49m\u001b[43m,\u001b[49m\n\u001b[1;32m    395\u001b[0m \u001b[43m        \u001b[49m\u001b[43mskip\u001b[49m\u001b[38;5;241;43m=\u001b[39;49m\u001b[43mskip\u001b[49m\u001b[43m,\u001b[49m\n\u001b[1;32m    396\u001b[0m \u001b[43m    \u001b[49m\u001b[43m)\u001b[49m\n\u001b[1;32m    397\u001b[0m     batch_size \u001b[38;5;241m=\u001b[39m \u001b[38;5;28mlen\u001b[39m(batched_records)\n\u001b[1;32m    398\u001b[0m     logging\u001b[38;5;241m.\u001b[39mdebug(\n\u001b[1;32m    399\u001b[0m         \u001b[38;5;124mf\u001b[39m\u001b[38;5;124m\"\u001b[39m\u001b[38;5;124m(skip=\u001b[39m\u001b[38;5;132;01m{\u001b[39;00mskip\u001b[38;5;132;01m}\u001b[39;00m\u001b[38;5;124m, limit=\u001b[39m\u001b[38;5;132;01m{\u001b[39;00mlimit\u001b[38;5;132;01m}\u001b[39;00m\u001b[38;5;124m): Retrieved \u001b[39m\u001b[38;5;132;01m{\u001b[39;00mbatch_size\u001b[38;5;132;01m}\u001b[39;00m\u001b[38;5;124m records\u001b[39m\u001b[38;5;124m\"\u001b[39m\n\u001b[1;32m    400\u001b[0m     )\n",
      "File \u001b[0;32m/opt/conda/lib/python3.9/site-packages/aind_data_access_api/document_db.py:219\u001b[0m, in \u001b[0;36mClient._find_records\u001b[0;34m(self, filter_query, projection, sort, limit, skip)\u001b[0m\n\u001b[1;32m    216\u001b[0m     params[\u001b[38;5;124m\"\u001b[39m\u001b[38;5;124msort\u001b[39m\u001b[38;5;124m\"\u001b[39m] \u001b[38;5;241m=\u001b[39m json\u001b[38;5;241m.\u001b[39mdumps(sort)\n\u001b[1;32m    218\u001b[0m response \u001b[38;5;241m=\u001b[39m \u001b[38;5;28mself\u001b[39m\u001b[38;5;241m.\u001b[39msession\u001b[38;5;241m.\u001b[39mget(\u001b[38;5;28mself\u001b[39m\u001b[38;5;241m.\u001b[39m_find_url, params\u001b[38;5;241m=\u001b[39mparams)\n\u001b[0;32m--> 219\u001b[0m \u001b[43mresponse\u001b[49m\u001b[38;5;241;43m.\u001b[39;49m\u001b[43mraise_for_status\u001b[49m\u001b[43m(\u001b[49m\u001b[43m)\u001b[49m\n\u001b[1;32m    220\u001b[0m response_body \u001b[38;5;241m=\u001b[39m response\u001b[38;5;241m.\u001b[39mjson()\n\u001b[1;32m    221\u001b[0m \u001b[38;5;28;01mreturn\u001b[39;00m response_body\n",
      "File \u001b[0;32m/opt/conda/lib/python3.9/site-packages/requests/models.py:1021\u001b[0m, in \u001b[0;36mResponse.raise_for_status\u001b[0;34m(self)\u001b[0m\n\u001b[1;32m   1016\u001b[0m     http_error_msg \u001b[38;5;241m=\u001b[39m (\n\u001b[1;32m   1017\u001b[0m         \u001b[38;5;124mf\u001b[39m\u001b[38;5;124m\"\u001b[39m\u001b[38;5;132;01m{\u001b[39;00m\u001b[38;5;28mself\u001b[39m\u001b[38;5;241m.\u001b[39mstatus_code\u001b[38;5;132;01m}\u001b[39;00m\u001b[38;5;124m Server Error: \u001b[39m\u001b[38;5;132;01m{\u001b[39;00mreason\u001b[38;5;132;01m}\u001b[39;00m\u001b[38;5;124m for url: \u001b[39m\u001b[38;5;132;01m{\u001b[39;00m\u001b[38;5;28mself\u001b[39m\u001b[38;5;241m.\u001b[39murl\u001b[38;5;132;01m}\u001b[39;00m\u001b[38;5;124m\"\u001b[39m\n\u001b[1;32m   1018\u001b[0m     )\n\u001b[1;32m   1020\u001b[0m \u001b[38;5;28;01mif\u001b[39;00m http_error_msg:\n\u001b[0;32m-> 1021\u001b[0m     \u001b[38;5;28;01mraise\u001b[39;00m HTTPError(http_error_msg, response\u001b[38;5;241m=\u001b[39m\u001b[38;5;28mself\u001b[39m)\n",
      "\u001b[0;31mHTTPError\u001b[0m: 503 Server Error: Service Unavailable for url: https://api.allenneuraldynamics.org/v1/metadata_index/data_assets/find?limit=0&skip=0&filter=%7B%22name%22%3A+%7B%22%24regex%22%3A+%22%5Ebehavior_751181_2025-02-27_11-24-44_.%2B%22%7D%7D&projection=%7B%22name%22%3A+1%2C+%22_id%22%3A+1%2C+%22session%22%3A+1%2C+%22session_name%22%3A+1%2C+%22external_links%22%3A+1%2C+%22data_description%22%3A+1%7D"
     ]
    }
   ],
   "source": [
    "# 1) All assets for the session (raw + processed)\n",
    "df_all = get_assets_by_session(\"behavior_751181_2025-02-27_11-24-44\")"
   ]
  },
  {
   "cell_type": "code",
   "execution_count": 5,
   "id": "52a3879e",
   "metadata": {},
   "outputs": [],
   "source": [
    "from typing import Optional, List\n",
    "import pandas as pd\n",
    "from aind_dynamic_foraging_data_utils.code_ocean_utils import get_assets, get_subject_assets\n",
    "\n",
    "\n",
    "def get_assets_by_session_via_original(\n",
    "    session_id: str,\n",
    "    modifier: str = \"\",                # e.g., \"videoprocessed\"\n",
    "    processed: Optional[bool] = None,  # True -> only *_processed_..., False -> only raw, None -> both\n",
    "    modality: Optional[List[str]] = None,  # e.g., [\"behavior\", \"behavior-videos\"]\n",
    "    task: Optional[List[str]] = None,\n",
    "    stage: Optional[List[str]] = None,\n",
    ") -> pd.DataFrame:\n",
    "    \"\"\"\n",
    "    Wrapper that calls the ORIGINAL get_assets() from aind_dynamic_foraging_data_utils,\n",
    "    but filters directly by session_id (e.g., 'behavior_751181_2025-02-27_11-24-44').\n",
    "    \"\"\"\n",
    "    modality = modality or []\n",
    "    task = task or []\n",
    "    stage = stage or []\n",
    "\n",
    "    # Build regex filter for session-based matching\n",
    "    name_regex = rf\"^{session_id}_.+\"\n",
    "\n",
    "    # Add processed/raw constraints\n",
    "    if processed is True:\n",
    "        name_regex = rf\"{name_regex}.*_processed_.*\"\n",
    "    elif processed is False:\n",
    "        name_regex = rf\"{name_regex}(?!.*_processed_).*\"\n",
    "\n",
    "    # Add optional substring constraint\n",
    "    if modifier:\n",
    "        name_regex = rf\"{name_regex}.*{modifier}.*\"\n",
    "\n",
    "    # Query using the original get_assets (with regex filter only)\n",
    "    df = get_assets(\n",
    "        subjects=[],  # leave empty for general query\n",
    "        processed=True if processed is True else (False if processed is False else True),\n",
    "        task=task,\n",
    "        modality=modality,\n",
    "        stage=stage,\n",
    "        extra_filter={\"name\": {\"$regex\": name_regex}},\n",
    "    )\n",
    "\n",
    "    if df is None:\n",
    "        return pd.DataFrame()\n",
    "\n",
    "    return df.reset_index(drop=True)\n"
   ]
  },
  {
   "cell_type": "code",
   "execution_count": 6,
   "id": "0ff43854",
   "metadata": {},
   "outputs": [
    {
     "name": "stdout",
     "output_type": "stream",
     "text": [
      "Query will be slow without explicit subject ids\n"
     ]
    },
    {
     "ename": "HTTPError",
     "evalue": "503 Server Error: Service Unavailable for url: https://api.allenneuraldynamics.org/v1/metadata_index/data_assets/find?limit=0&skip=0&filter=%7B%22name%22%3A+%7B%22%24regex%22%3A+%22%5Ebehavior_751181_2025-02-27_11-24-44_.%2B%22%7D%2C+%22session.session_type%22%3A+%7B%22%24regex%22%3A+%22%5E%28Uncoupled%7CCoupled%29%28+Without%29%3F+Baiting%22%7D%7D&projection=%7B%22name%22%3A+1%2C+%22_id%22%3A+1%2C+%22session%22%3A+1%2C+%22session_name%22%3A+1%2C+%22external_links%22%3A+1%2C+%22subject.subject_id%22%3A+1%7D",
     "output_type": "error",
     "traceback": [
      "\u001b[0;31m---------------------------------------------------------------------------\u001b[0m",
      "\u001b[0;31mHTTPError\u001b[0m                                 Traceback (most recent call last)",
      "Cell \u001b[0;32mIn[6], line 1\u001b[0m\n\u001b[0;32m----> 1\u001b[0m df_all \u001b[38;5;241m=\u001b[39m \u001b[43mget_assets_by_session_via_original\u001b[49m\u001b[43m(\u001b[49m\u001b[38;5;124;43m\"\u001b[39;49m\u001b[38;5;124;43mbehavior_751181_2025-02-27_11-24-44\u001b[39;49m\u001b[38;5;124;43m\"\u001b[39;49m\u001b[43m)\u001b[49m\n",
      "Cell \u001b[0;32mIn[5], line 36\u001b[0m, in \u001b[0;36mget_assets_by_session_via_original\u001b[0;34m(session_id, modifier, processed, modality, task, stage)\u001b[0m\n\u001b[1;32m     33\u001b[0m     name_regex \u001b[38;5;241m=\u001b[39m \u001b[38;5;124mrf\u001b[39m\u001b[38;5;124m\"\u001b[39m\u001b[38;5;132;01m{\u001b[39;00mname_regex\u001b[38;5;132;01m}\u001b[39;00m\u001b[38;5;124m.*\u001b[39m\u001b[38;5;132;01m{\u001b[39;00mmodifier\u001b[38;5;132;01m}\u001b[39;00m\u001b[38;5;124m.*\u001b[39m\u001b[38;5;124m\"\u001b[39m\n\u001b[1;32m     35\u001b[0m \u001b[38;5;66;03m# Query using the original get_assets (with regex filter only)\u001b[39;00m\n\u001b[0;32m---> 36\u001b[0m df \u001b[38;5;241m=\u001b[39m \u001b[43mget_assets\u001b[49m\u001b[43m(\u001b[49m\n\u001b[1;32m     37\u001b[0m \u001b[43m    \u001b[49m\u001b[43msubjects\u001b[49m\u001b[38;5;241;43m=\u001b[39;49m\u001b[43m[\u001b[49m\u001b[43m]\u001b[49m\u001b[43m,\u001b[49m\u001b[43m  \u001b[49m\u001b[38;5;66;43;03m# leave empty for general query\u001b[39;49;00m\n\u001b[1;32m     38\u001b[0m \u001b[43m    \u001b[49m\u001b[43mprocessed\u001b[49m\u001b[38;5;241;43m=\u001b[39;49m\u001b[38;5;28;43;01mTrue\u001b[39;49;00m\u001b[43m \u001b[49m\u001b[38;5;28;43;01mif\u001b[39;49;00m\u001b[43m \u001b[49m\u001b[43mprocessed\u001b[49m\u001b[43m \u001b[49m\u001b[38;5;129;43;01mis\u001b[39;49;00m\u001b[43m \u001b[49m\u001b[38;5;28;43;01mTrue\u001b[39;49;00m\u001b[43m \u001b[49m\u001b[38;5;28;43;01melse\u001b[39;49;00m\u001b[43m \u001b[49m\u001b[43m(\u001b[49m\u001b[38;5;28;43;01mFalse\u001b[39;49;00m\u001b[43m \u001b[49m\u001b[38;5;28;43;01mif\u001b[39;49;00m\u001b[43m \u001b[49m\u001b[43mprocessed\u001b[49m\u001b[43m \u001b[49m\u001b[38;5;129;43;01mis\u001b[39;49;00m\u001b[43m \u001b[49m\u001b[38;5;28;43;01mFalse\u001b[39;49;00m\u001b[43m \u001b[49m\u001b[38;5;28;43;01melse\u001b[39;49;00m\u001b[43m \u001b[49m\u001b[38;5;28;43;01mTrue\u001b[39;49;00m\u001b[43m)\u001b[49m\u001b[43m,\u001b[49m\n\u001b[1;32m     39\u001b[0m \u001b[43m    \u001b[49m\u001b[43mtask\u001b[49m\u001b[38;5;241;43m=\u001b[39;49m\u001b[43mtask\u001b[49m\u001b[43m,\u001b[49m\n\u001b[1;32m     40\u001b[0m \u001b[43m    \u001b[49m\u001b[43mmodality\u001b[49m\u001b[38;5;241;43m=\u001b[39;49m\u001b[43mmodality\u001b[49m\u001b[43m,\u001b[49m\n\u001b[1;32m     41\u001b[0m \u001b[43m    \u001b[49m\u001b[43mstage\u001b[49m\u001b[38;5;241;43m=\u001b[39;49m\u001b[43mstage\u001b[49m\u001b[43m,\u001b[49m\n\u001b[1;32m     42\u001b[0m \u001b[43m    \u001b[49m\u001b[43mextra_filter\u001b[49m\u001b[38;5;241;43m=\u001b[39;49m\u001b[43m{\u001b[49m\u001b[38;5;124;43m\"\u001b[39;49m\u001b[38;5;124;43mname\u001b[39;49m\u001b[38;5;124;43m\"\u001b[39;49m\u001b[43m:\u001b[49m\u001b[43m \u001b[49m\u001b[43m{\u001b[49m\u001b[38;5;124;43m\"\u001b[39;49m\u001b[38;5;124;43m$regex\u001b[39;49m\u001b[38;5;124;43m\"\u001b[39;49m\u001b[43m:\u001b[49m\u001b[43m \u001b[49m\u001b[43mname_regex\u001b[49m\u001b[43m}\u001b[49m\u001b[43m}\u001b[49m\u001b[43m,\u001b[49m\n\u001b[1;32m     43\u001b[0m \u001b[43m\u001b[49m\u001b[43m)\u001b[49m\n\u001b[1;32m     45\u001b[0m \u001b[38;5;28;01mif\u001b[39;00m df \u001b[38;5;129;01mis\u001b[39;00m \u001b[38;5;28;01mNone\u001b[39;00m:\n\u001b[1;32m     46\u001b[0m     \u001b[38;5;28;01mreturn\u001b[39;00m pd\u001b[38;5;241m.\u001b[39mDataFrame()\n",
      "File \u001b[0;32m/src/aind-dynamic-foraging-data-utils/src/aind_dynamic_foraging_data_utils/code_ocean_utils.py:148\u001b[0m, in \u001b[0;36mget_assets\u001b[0;34m(subjects, processed, task, modality, stage, extra_filter)\u001b[0m\n\u001b[1;32m    144\u001b[0m     projection \u001b[38;5;241m=\u001b[39m \u001b[38;5;28;01mNone\u001b[39;00m\n\u001b[1;32m    146\u001b[0m \u001b[38;5;66;03m# Query\u001b[39;00m\n\u001b[1;32m    147\u001b[0m results \u001b[38;5;241m=\u001b[39m pd\u001b[38;5;241m.\u001b[39mDataFrame(\n\u001b[0;32m--> 148\u001b[0m     \u001b[43mclient\u001b[49m\u001b[38;5;241;43m.\u001b[39;49m\u001b[43mretrieve_docdb_records\u001b[49m\u001b[43m(\u001b[49m\n\u001b[1;32m    149\u001b[0m \u001b[43m        \u001b[49m\u001b[43mfilter_query\u001b[49m\u001b[38;5;241;43m=\u001b[39;49m\u001b[43m{\u001b[49m\n\u001b[1;32m    150\u001b[0m \u001b[43m            \u001b[49m\u001b[38;5;241;43m*\u001b[39;49m\u001b[38;5;241;43m*\u001b[39;49m\u001b[43msubject_filter\u001b[49m\u001b[43m,\u001b[49m\n\u001b[1;32m    151\u001b[0m \u001b[43m            \u001b[49m\u001b[38;5;241;43m*\u001b[39;49m\u001b[38;5;241;43m*\u001b[39;49m\u001b[43mtask_filter\u001b[49m\u001b[43m,\u001b[49m\n\u001b[1;32m    152\u001b[0m \u001b[43m            \u001b[49m\u001b[38;5;241;43m*\u001b[39;49m\u001b[38;5;241;43m*\u001b[39;49m\u001b[43mmodality_filter\u001b[49m\u001b[43m,\u001b[49m\n\u001b[1;32m    153\u001b[0m \u001b[43m            \u001b[49m\u001b[38;5;241;43m*\u001b[39;49m\u001b[38;5;241;43m*\u001b[39;49m\u001b[43mstage_filter\u001b[49m\u001b[43m,\u001b[49m\n\u001b[1;32m    154\u001b[0m \u001b[43m            \u001b[49m\u001b[38;5;241;43m*\u001b[39;49m\u001b[38;5;241;43m*\u001b[39;49m\u001b[43mextra_filter\u001b[49m\u001b[43m,\u001b[49m\n\u001b[1;32m    155\u001b[0m \u001b[43m        \u001b[49m\u001b[43m}\u001b[49m\u001b[43m,\u001b[49m\n\u001b[1;32m    156\u001b[0m \u001b[43m        \u001b[49m\u001b[43mprojection\u001b[49m\u001b[38;5;241;43m=\u001b[39;49m\u001b[43mprojection\u001b[49m\u001b[43m,\u001b[49m\n\u001b[1;32m    157\u001b[0m \u001b[43m    \u001b[49m\u001b[43m)\u001b[49m\n\u001b[1;32m    158\u001b[0m )\n\u001b[1;32m    160\u001b[0m \u001b[38;5;66;03m# If nothing is found, return\u001b[39;00m\n\u001b[1;32m    161\u001b[0m \u001b[38;5;28;01mif\u001b[39;00m \u001b[38;5;28mlen\u001b[39m(results) \u001b[38;5;241m==\u001b[39m \u001b[38;5;241m0\u001b[39m:\n",
      "File \u001b[0;32m/opt/conda/lib/python3.9/site-packages/aind_data_access_api/document_db.py:390\u001b[0m, in \u001b[0;36mClient.retrieve_docdb_records\u001b[0;34m(self, filter_query, projection, sort, limit, paginate, paginate_batch_size, paginate_max_iterations)\u001b[0m\n\u001b[1;32m    388\u001b[0m skip \u001b[38;5;241m=\u001b[39m \u001b[38;5;241m0\u001b[39m\n\u001b[1;32m    389\u001b[0m \u001b[38;5;28;01mwhile\u001b[39;00m get_all_records \u001b[38;5;129;01mor\u001b[39;00m limit \u001b[38;5;241m>\u001b[39m \u001b[38;5;241m0\u001b[39m:\n\u001b[0;32m--> 390\u001b[0m     batched_records \u001b[38;5;241m=\u001b[39m \u001b[38;5;28;43mself\u001b[39;49m\u001b[38;5;241;43m.\u001b[39;49m\u001b[43m_find_records\u001b[49m\u001b[43m(\u001b[49m\n\u001b[1;32m    391\u001b[0m \u001b[43m        \u001b[49m\u001b[43mfilter_query\u001b[49m\u001b[38;5;241;43m=\u001b[39;49m\u001b[43mfilter_query\u001b[49m\u001b[43m,\u001b[49m\n\u001b[1;32m    392\u001b[0m \u001b[43m        \u001b[49m\u001b[43mprojection\u001b[49m\u001b[38;5;241;43m=\u001b[39;49m\u001b[43mprojection\u001b[49m\u001b[43m,\u001b[49m\n\u001b[1;32m    393\u001b[0m \u001b[43m        \u001b[49m\u001b[43msort\u001b[49m\u001b[38;5;241;43m=\u001b[39;49m\u001b[43msort\u001b[49m\u001b[43m,\u001b[49m\n\u001b[1;32m    394\u001b[0m \u001b[43m        \u001b[49m\u001b[43mlimit\u001b[49m\u001b[38;5;241;43m=\u001b[39;49m\u001b[43mlimit\u001b[49m\u001b[43m,\u001b[49m\n\u001b[1;32m    395\u001b[0m \u001b[43m        \u001b[49m\u001b[43mskip\u001b[49m\u001b[38;5;241;43m=\u001b[39;49m\u001b[43mskip\u001b[49m\u001b[43m,\u001b[49m\n\u001b[1;32m    396\u001b[0m \u001b[43m    \u001b[49m\u001b[43m)\u001b[49m\n\u001b[1;32m    397\u001b[0m     batch_size \u001b[38;5;241m=\u001b[39m \u001b[38;5;28mlen\u001b[39m(batched_records)\n\u001b[1;32m    398\u001b[0m     logging\u001b[38;5;241m.\u001b[39mdebug(\n\u001b[1;32m    399\u001b[0m         \u001b[38;5;124mf\u001b[39m\u001b[38;5;124m\"\u001b[39m\u001b[38;5;124m(skip=\u001b[39m\u001b[38;5;132;01m{\u001b[39;00mskip\u001b[38;5;132;01m}\u001b[39;00m\u001b[38;5;124m, limit=\u001b[39m\u001b[38;5;132;01m{\u001b[39;00mlimit\u001b[38;5;132;01m}\u001b[39;00m\u001b[38;5;124m): Retrieved \u001b[39m\u001b[38;5;132;01m{\u001b[39;00mbatch_size\u001b[38;5;132;01m}\u001b[39;00m\u001b[38;5;124m records\u001b[39m\u001b[38;5;124m\"\u001b[39m\n\u001b[1;32m    400\u001b[0m     )\n",
      "File \u001b[0;32m/opt/conda/lib/python3.9/site-packages/aind_data_access_api/document_db.py:219\u001b[0m, in \u001b[0;36mClient._find_records\u001b[0;34m(self, filter_query, projection, sort, limit, skip)\u001b[0m\n\u001b[1;32m    216\u001b[0m     params[\u001b[38;5;124m\"\u001b[39m\u001b[38;5;124msort\u001b[39m\u001b[38;5;124m\"\u001b[39m] \u001b[38;5;241m=\u001b[39m json\u001b[38;5;241m.\u001b[39mdumps(sort)\n\u001b[1;32m    218\u001b[0m response \u001b[38;5;241m=\u001b[39m \u001b[38;5;28mself\u001b[39m\u001b[38;5;241m.\u001b[39msession\u001b[38;5;241m.\u001b[39mget(\u001b[38;5;28mself\u001b[39m\u001b[38;5;241m.\u001b[39m_find_url, params\u001b[38;5;241m=\u001b[39mparams)\n\u001b[0;32m--> 219\u001b[0m \u001b[43mresponse\u001b[49m\u001b[38;5;241;43m.\u001b[39;49m\u001b[43mraise_for_status\u001b[49m\u001b[43m(\u001b[49m\u001b[43m)\u001b[49m\n\u001b[1;32m    220\u001b[0m response_body \u001b[38;5;241m=\u001b[39m response\u001b[38;5;241m.\u001b[39mjson()\n\u001b[1;32m    221\u001b[0m \u001b[38;5;28;01mreturn\u001b[39;00m response_body\n",
      "File \u001b[0;32m/opt/conda/lib/python3.9/site-packages/requests/models.py:1021\u001b[0m, in \u001b[0;36mResponse.raise_for_status\u001b[0;34m(self)\u001b[0m\n\u001b[1;32m   1016\u001b[0m     http_error_msg \u001b[38;5;241m=\u001b[39m (\n\u001b[1;32m   1017\u001b[0m         \u001b[38;5;124mf\u001b[39m\u001b[38;5;124m\"\u001b[39m\u001b[38;5;132;01m{\u001b[39;00m\u001b[38;5;28mself\u001b[39m\u001b[38;5;241m.\u001b[39mstatus_code\u001b[38;5;132;01m}\u001b[39;00m\u001b[38;5;124m Server Error: \u001b[39m\u001b[38;5;132;01m{\u001b[39;00mreason\u001b[38;5;132;01m}\u001b[39;00m\u001b[38;5;124m for url: \u001b[39m\u001b[38;5;132;01m{\u001b[39;00m\u001b[38;5;28mself\u001b[39m\u001b[38;5;241m.\u001b[39murl\u001b[38;5;132;01m}\u001b[39;00m\u001b[38;5;124m\"\u001b[39m\n\u001b[1;32m   1018\u001b[0m     )\n\u001b[1;32m   1020\u001b[0m \u001b[38;5;28;01mif\u001b[39;00m http_error_msg:\n\u001b[0;32m-> 1021\u001b[0m     \u001b[38;5;28;01mraise\u001b[39;00m HTTPError(http_error_msg, response\u001b[38;5;241m=\u001b[39m\u001b[38;5;28mself\u001b[39m)\n",
      "\u001b[0;31mHTTPError\u001b[0m: 503 Server Error: Service Unavailable for url: https://api.allenneuraldynamics.org/v1/metadata_index/data_assets/find?limit=0&skip=0&filter=%7B%22name%22%3A+%7B%22%24regex%22%3A+%22%5Ebehavior_751181_2025-02-27_11-24-44_.%2B%22%7D%2C+%22session.session_type%22%3A+%7B%22%24regex%22%3A+%22%5E%28Uncoupled%7CCoupled%29%28+Without%29%3F+Baiting%22%7D%7D&projection=%7B%22name%22%3A+1%2C+%22_id%22%3A+1%2C+%22session%22%3A+1%2C+%22session_name%22%3A+1%2C+%22external_links%22%3A+1%2C+%22subject.subject_id%22%3A+1%7D"
     ]
    }
   ],
   "source": [
    "df_all = get_assets_by_session_via_original(\"behavior_751181_2025-02-27_11-24-44\")\n"
   ]
  }
 ],
 "metadata": {
  "kernelspec": {
   "display_name": "base",
   "language": "python",
   "name": "python3"
  },
  "language_info": {
   "codemirror_mode": {
    "name": "ipython",
    "version": 3
   },
   "file_extension": ".py",
   "mimetype": "text/x-python",
   "name": "python",
   "nbconvert_exporter": "python",
   "pygments_lexer": "ipython3",
   "version": "3.9.12"
  }
 },
 "nbformat": 4,
 "nbformat_minor": 5
}
