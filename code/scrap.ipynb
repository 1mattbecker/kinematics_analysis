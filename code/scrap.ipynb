{
 "cells": [
  {
   "cell_type": "code",
   "execution_count": 1,
   "metadata": {},
   "outputs": [],
   "source": [
    "import subprocess\n",
    "\n",
    "def get_total_frames(video_path):\n",
    "    # Construct the ffprobe command\n",
    "    command = [\n",
    "        'ffprobe', \n",
    "        '-v', 'error', \n",
    "        '-select_streams', 'v:0',  # Select the first video stream\n",
    "        '-show_entries', 'stream=nb_frames', \n",
    "        '-of', 'default=noprint_wrappers=1:nokey=1', \n",
    "        video_path\n",
    "    ]\n",
    "    # Execute the command and capture the output\n",
    "    result = subprocess.run(command, check=True, stdout=subprocess.PIPE, stderr=subprocess.PIPE, text=True)\n",
    "    \n",
    "    # Return the result (frame count) after stripping whitespace\n",
    "    return int(result.stdout.strip())\n",
    "\n"
   ]
  },
  {
   "cell_type": "code",
   "execution_count": 2,
   "metadata": {},
   "outputs": [
    {
     "data": {
      "text/plain": [
       "2689718"
      ]
     },
     "execution_count": 2,
     "metadata": {},
     "output_type": "execute_result"
    }
   ],
   "source": [
    "video_file = '/root/capsule/data/behavior_716325_2024-05-31_10-31-14/behavior-videos/bottom_camera.avi'\n",
    "total_frames_original = get_total_frames(video_file)\n",
    "\n",
    "total_frames_original"
   ]
  },
  {
   "cell_type": "code",
   "execution_count": 5,
   "metadata": {},
   "outputs": [
    {
     "data": {
      "text/plain": [
       "2689719"
      ]
     },
     "execution_count": 5,
     "metadata": {},
     "output_type": "execute_result"
    }
   ],
   "source": [
    "video_file = '/root/capsule/data/matt_test_DLC_LP_results_20240920/video_predictonly2/bottom_camera.mp4'\n",
    "total_frames_processed = get_total_frames(video_file)\n",
    "\n",
    "total_frames_processed"
   ]
  }
 ],
 "metadata": {
  "kernelspec": {
   "display_name": "base",
   "language": "python",
   "name": "python3"
  },
  "language_info": {
   "codemirror_mode": {
    "name": "ipython",
    "version": 3
   },
   "file_extension": ".py",
   "mimetype": "text/x-python",
   "name": "python",
   "nbconvert_exporter": "python",
   "pygments_lexer": "ipython3",
   "version": "3.9.12"
  }
 },
 "nbformat": 4,
 "nbformat_minor": 2
}
